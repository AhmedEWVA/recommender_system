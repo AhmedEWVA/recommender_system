{
 "cells": [
  {
   "cell_type": "code",
   "execution_count": 1,
   "id": "8d47b91d",
   "metadata": {},
   "outputs": [],
   "source": [
    "import numpy as np\n",
    "import pandas as pd\n",
    "import matplotlib.pyplot as plt\n",
    "import math\n",
    "import requests\n",
    "import json\n",
    "import time\n",
    "from tqdm.auto import tqdm\n",
    "import math\n",
    "import os, os.path\n",
    "import geopandas as gpd\n",
    "import numpy as np\n",
    "import folium\n",
    "from folium import Marker\n",
    "import warnings \n",
    "from geopy.geocoders import Nominatim\n",
    "import ast\n",
    "import re\n",
    "from sklearn.metrics.pairwise import cosine_similarity\n",
    "from gensim.models import Word2Vec\n",
    "import gensim\n",
    "import gensim.downloader\n",
    "\n",
    "import matplotlib.pyplot as plt\n",
    "from gensim.models.phrases import Phrases, Phraser\n",
    "from gensim.models import KeyedVectors\n",
    "import seaborn as sns\n",
    "\n",
    "from collections import Counter\n",
    "\n",
    "from sklearn.feature_extraction.text import TfidfVectorizer\n",
    "from sklearn.feature_extraction.text import TfidfTransformer\n",
    "from sklearn.metrics.pairwise import linear_kernel\n",
    "from sklearn.metrics.pairwise import cosine_similarity\n",
    "from sklearn.preprocessing import StandardScaler\n",
    "from sklearn.decomposition import PCA\n",
    "from sklearn.cluster import KMeans\n",
    "from sklearn.neighbors import NearestNeighbors\n",
    "\n",
    "import os\n",
    "import urllib.request\n",
    "from scipy import spatial\n",
    "from sklearn.manifold import TSNE\n",
    "from numpy import dot\n",
    "from numpy.linalg import norm\n",
    "\n"
   ]
  },
  {
   "cell_type": "code",
   "execution_count": 10,
   "id": "8014e86e",
   "metadata": {},
   "outputs": [],
   "source": [
    "df = pd.read_csv(\"geo_100000_200000.csv\",low_memory=False, lineterminator='\\n')"
   ]
  },
  {
   "cell_type": "code",
   "execution_count": 11,
   "id": "f3698e17",
   "metadata": {},
   "outputs": [
    {
     "data": {
      "text/html": [
       "<div>\n",
       "<style scoped>\n",
       "    .dataframe tbody tr th:only-of-type {\n",
       "        vertical-align: middle;\n",
       "    }\n",
       "\n",
       "    .dataframe tbody tr th {\n",
       "        vertical-align: top;\n",
       "    }\n",
       "\n",
       "    .dataframe thead th {\n",
       "        text-align: right;\n",
       "    }\n",
       "</style>\n",
       "<table border=\"1\" class=\"dataframe\">\n",
       "  <thead>\n",
       "    <tr style=\"text-align: right;\">\n",
       "      <th></th>\n",
       "      <th>Unnamed: 0</th>\n",
       "      <th>id</th>\n",
       "      <th>name</th>\n",
       "      <th>description</th>\n",
       "      <th>number_of_employees</th>\n",
       "      <th>seo_description</th>\n",
       "      <th>annual_revenue_estimation</th>\n",
       "      <th>address</th>\n",
       "      <th>founding_year</th>\n",
       "      <th>languages_spoken_at_company</th>\n",
       "      <th>geo_lon</th>\n",
       "      <th>geo_lat</th>\n",
       "      <th>industries</th>\n",
       "      <th>keywords</th>\n",
       "      <th>revenue_currency</th>\n",
       "      <th>headquarter_location_geo_code_json</th>\n",
       "      <th>Latitude</th>\n",
       "      <th>Longitude</th>\n",
       "      <th>Full_address</th>\n",
       "    </tr>\n",
       "  </thead>\n",
       "  <tbody>\n",
       "    <tr>\n",
       "      <th>0</th>\n",
       "      <td>100000</td>\n",
       "      <td>320351</td>\n",
       "      <td>Sendero</td>\n",
       "      <td>No matter your path to success, let’s blaze th...</td>\n",
       "      <td>500</td>\n",
       "      <td>No matter your path to success, let’s blaze th...</td>\n",
       "      <td>50000000.0</td>\n",
       "      <td>750 North Saint Paul Street, 75201, Dallas, TX...</td>\n",
       "      <td>2004</td>\n",
       "      <td>[\"English\"]</td>\n",
       "      <td>-96.799879</td>\n",
       "      <td>32.785905</td>\n",
       "      <td>['Management Beratung', 'marketing', 'Personal...</td>\n",
       "      <td>['business management consulting', 'organizati...</td>\n",
       "      <td>NaN</td>\n",
       "      <td>NaN</td>\n",
       "      <td>NaN</td>\n",
       "      <td>NaN</td>\n",
       "      <td>NaN</td>\n",
       "    </tr>\n",
       "    <tr>\n",
       "      <th>1</th>\n",
       "      <td>100001</td>\n",
       "      <td>320352</td>\n",
       "      <td>The Immigrant Learning Center</td>\n",
       "      <td>The Immigrant Learning Center gives immigrants...</td>\n",
       "      <td>50</td>\n",
       "      <td>The Immigrant Learning Center</td>\n",
       "      <td>1000000.0</td>\n",
       "      <td>442 Main Street, 02148, Malden, MA, United States</td>\n",
       "      <td>1992</td>\n",
       "      <td>NaN</td>\n",
       "      <td>-71.067409</td>\n",
       "      <td>42.427020</td>\n",
       "      <td>['Wohltätigkeitsorganisationen (Non-Profit)', ...</td>\n",
       "      <td>['non-profits &amp; non-profit services']</td>\n",
       "      <td>NaN</td>\n",
       "      <td>NaN</td>\n",
       "      <td>NaN</td>\n",
       "      <td>NaN</td>\n",
       "      <td>NaN</td>\n",
       "    </tr>\n",
       "    <tr>\n",
       "      <th>2</th>\n",
       "      <td>100002</td>\n",
       "      <td>320353</td>\n",
       "      <td>freebird inc</td>\n",
       "      <td>NaN</td>\n",
       "      <td>23</td>\n",
       "      <td>NaN</td>\n",
       "      <td>10000000.0</td>\n",
       "      <td>Cambridge, Massachusetts, Vereinigte Staaten</td>\n",
       "      <td>NaN</td>\n",
       "      <td>[\"English\"]</td>\n",
       "      <td>-71.160332</td>\n",
       "      <td>42.404384</td>\n",
       "      <td>['Freizeit, Reisen und Tourismus', 'data_scien...</td>\n",
       "      <td>['online travel', 'information technology &amp; se...</td>\n",
       "      <td>NaN</td>\n",
       "      <td>NaN</td>\n",
       "      <td>NaN</td>\n",
       "      <td>NaN</td>\n",
       "      <td>NaN</td>\n",
       "    </tr>\n",
       "    <tr>\n",
       "      <th>3</th>\n",
       "      <td>100003</td>\n",
       "      <td>320354</td>\n",
       "      <td>Grover Zampa Vineyards</td>\n",
       "      <td>Grover Zampa Vineyards: A formidable combinati...</td>\n",
       "      <td>200</td>\n",
       "      <td>NaN</td>\n",
       "      <td>50000000.0</td>\n",
       "      <td>401, ARCADIA, 400021, Nashik, Maharashtra, India</td>\n",
       "      <td>1989</td>\n",
       "      <td>[\"English\"]</td>\n",
       "      <td>72.775909</td>\n",
       "      <td>19.271634</td>\n",
       "      <td>['Alkoholische Getränke und Spirituosen', 'sal...</td>\n",
       "      <td>['wine &amp; spirits']</td>\n",
       "      <td>NaN</td>\n",
       "      <td>NaN</td>\n",
       "      <td>NaN</td>\n",
       "      <td>NaN</td>\n",
       "      <td>NaN</td>\n",
       "    </tr>\n",
       "    <tr>\n",
       "      <th>4</th>\n",
       "      <td>100004</td>\n",
       "      <td>320355</td>\n",
       "      <td>Vecdis</td>\n",
       "      <td>La adecuada sistematización de la información ...</td>\n",
       "      <td>25</td>\n",
       "      <td>NaN</td>\n",
       "      <td>10000000.0</td>\n",
       "      <td>CALLE MARÍA BENÍTEZ, 55, 28224, Madrid, Commun...</td>\n",
       "      <td>2003</td>\n",
       "      <td>[\"Spanish\"]</td>\n",
       "      <td>-3.803755</td>\n",
       "      <td>40.453722</td>\n",
       "      <td>['Informationstechnologie', 'media_and_commmun...</td>\n",
       "      <td>['vigilancia tecnologica', 'gestion del conoci...</td>\n",
       "      <td>NaN</td>\n",
       "      <td>NaN</td>\n",
       "      <td>NaN</td>\n",
       "      <td>NaN</td>\n",
       "      <td>NaN</td>\n",
       "    </tr>\n",
       "  </tbody>\n",
       "</table>\n",
       "</div>"
      ],
      "text/plain": [
       "   Unnamed: 0      id                           name  \\\n",
       "0      100000  320351                        Sendero   \n",
       "1      100001  320352  The Immigrant Learning Center   \n",
       "2      100002  320353                   freebird inc   \n",
       "3      100003  320354         Grover Zampa Vineyards   \n",
       "4      100004  320355                         Vecdis   \n",
       "\n",
       "                                         description number_of_employees  \\\n",
       "0  No matter your path to success, let’s blaze th...                 500   \n",
       "1  The Immigrant Learning Center gives immigrants...                  50   \n",
       "2                                                NaN                  23   \n",
       "3  Grover Zampa Vineyards: A formidable combinati...                 200   \n",
       "4  La adecuada sistematización de la información ...                  25   \n",
       "\n",
       "                                     seo_description  \\\n",
       "0  No matter your path to success, let’s blaze th...   \n",
       "1                      The Immigrant Learning Center   \n",
       "2                                                NaN   \n",
       "3                                                NaN   \n",
       "4                                                NaN   \n",
       "\n",
       "   annual_revenue_estimation  \\\n",
       "0                 50000000.0   \n",
       "1                  1000000.0   \n",
       "2                 10000000.0   \n",
       "3                 50000000.0   \n",
       "4                 10000000.0   \n",
       "\n",
       "                                             address founding_year  \\\n",
       "0  750 North Saint Paul Street, 75201, Dallas, TX...          2004   \n",
       "1  442 Main Street, 02148, Malden, MA, United States          1992   \n",
       "2       Cambridge, Massachusetts, Vereinigte Staaten           NaN   \n",
       "3   401, ARCADIA, 400021, Nashik, Maharashtra, India          1989   \n",
       "4  CALLE MARÍA BENÍTEZ, 55, 28224, Madrid, Commun...          2003   \n",
       "\n",
       "  languages_spoken_at_company    geo_lon    geo_lat  \\\n",
       "0                 [\"English\"] -96.799879  32.785905   \n",
       "1                         NaN -71.067409  42.427020   \n",
       "2                 [\"English\"] -71.160332  42.404384   \n",
       "3                 [\"English\"]  72.775909  19.271634   \n",
       "4                 [\"Spanish\"]  -3.803755  40.453722   \n",
       "\n",
       "                                          industries  \\\n",
       "0  ['Management Beratung', 'marketing', 'Personal...   \n",
       "1  ['Wohltätigkeitsorganisationen (Non-Profit)', ...   \n",
       "2  ['Freizeit, Reisen und Tourismus', 'data_scien...   \n",
       "3  ['Alkoholische Getränke und Spirituosen', 'sal...   \n",
       "4  ['Informationstechnologie', 'media_and_commmun...   \n",
       "\n",
       "                                            keywords  revenue_currency  \\\n",
       "0  ['business management consulting', 'organizati...               NaN   \n",
       "1              ['non-profits & non-profit services']               NaN   \n",
       "2  ['online travel', 'information technology & se...               NaN   \n",
       "3                                 ['wine & spirits']               NaN   \n",
       "4  ['vigilancia tecnologica', 'gestion del conoci...               NaN   \n",
       "\n",
       "   headquarter_location_geo_code_json  Latitude  Longitude Full_address  \n",
       "0                                 NaN       NaN        NaN          NaN  \n",
       "1                                 NaN       NaN        NaN          NaN  \n",
       "2                                 NaN       NaN        NaN          NaN  \n",
       "3                                 NaN       NaN        NaN          NaN  \n",
       "4                                 NaN       NaN        NaN          NaN  "
      ]
     },
     "execution_count": 11,
     "metadata": {},
     "output_type": "execute_result"
    }
   ],
   "source": [
    "df.head()"
   ]
  },
  {
   "cell_type": "code",
   "execution_count": 12,
   "id": "688f2e24",
   "metadata": {},
   "outputs": [
    {
     "data": {
      "text/plain": [
       "Unnamed: 0                              0.000\n",
       "id                                      0.000\n",
       "name                                    0.000\n",
       "description                             2.469\n",
       "number_of_employees                     0.022\n",
       "seo_description                        39.185\n",
       "annual_revenue_estimation               0.027\n",
       "address                                 0.691\n",
       "founding_year                           9.566\n",
       "languages_spoken_at_company            14.858\n",
       "geo_lon                                15.402\n",
       "geo_lat                                15.402\n",
       "industries                              0.138\n",
       "keywords                                0.548\n",
       "revenue_currency                      100.000\n",
       "headquarter_location_geo_code_json    100.000\n",
       "Latitude                               66.766\n",
       "Longitude                              66.766\n",
       "Full_address                           66.766\n",
       "dtype: float64"
      ]
     },
     "execution_count": 12,
     "metadata": {},
     "output_type": "execute_result"
    }
   ],
   "source": [
    "companies_isna_stats = df.isna().sum() / df.shape[0] * 100\n",
    "companies_isna_stats"
   ]
  },
  {
   "cell_type": "code",
   "execution_count": 9,
   "id": "d755fbf4",
   "metadata": {},
   "outputs": [],
   "source": [
    "path_glv_50 = 'glove.6B/glove.6B.50d.txt'\n",
    "embed_glv_50 = get_embedding_dict(path_glv_50)\n",
    "tqdm.pandas()"
   ]
  },
  {
   "cell_type": "code",
   "execution_count": null,
   "id": "fea82104",
   "metadata": {},
   "outputs": [],
   "source": []
  },
  {
   "cell_type": "code",
   "execution_count": 123,
   "id": "ac89ad5d",
   "metadata": {},
   "outputs": [
    {
     "data": {
      "application/vnd.jupyter.widget-view+json": {
       "model_id": "296188054138421b829b03eac25fb121",
       "version_major": 2,
       "version_minor": 0
      },
      "text/plain": [
       "  0%|          | 0/2846000 [00:00<?, ?it/s]"
      ]
     },
     "metadata": {},
     "output_type": "display_data"
    }
   ],
   "source": [
    "df[\"ind_embed\"] = df[\"eng_industries\"].progress_apply(lambda row :  get_row_embedding(row, get_description_embedding_max, embed_glv_50, 50 ))  \n"
   ]
  },
  {
   "cell_type": "code",
   "execution_count": 124,
   "id": "c4628e60",
   "metadata": {},
   "outputs": [
    {
     "data": {
      "application/vnd.jupyter.widget-view+json": {
       "model_id": "e86ba0e40014409da4ddb2b16265ed98",
       "version_major": 2,
       "version_minor": 0
      },
      "text/plain": [
       "  0%|          | 0/2846000 [00:00<?, ?it/s]"
      ]
     },
     "metadata": {},
     "output_type": "display_data"
    }
   ],
   "source": [
    "df[\"kw_embed\"] = df[\"eng_keywords\"].progress_apply(lambda row :  get_row_embedding(row, get_description_embedding_avg, embed_glv_50, 50 ))  \n"
   ]
  },
  {
   "cell_type": "code",
   "execution_count": 126,
   "id": "f9d364bd",
   "metadata": {},
   "outputs": [
    {
     "ename": "TypeError",
     "evalue": "unsupported operand type(s) for +: 'float' and 'NoneType'",
     "output_type": "error",
     "traceback": [
      "\u001b[0;31m---------------------------------------------------------------------------\u001b[0m",
      "\u001b[0;31mTypeError\u001b[0m                                 Traceback (most recent call last)",
      "\u001b[1;32m/Users/ahmedewva/Downloads/recommender/testing.ipynb Cellule 10\u001b[0m in \u001b[0;36m<cell line: 4>\u001b[0;34m()\u001b[0m\n\u001b[1;32m      <a href='vscode-notebook-cell:/Users/ahmedewva/Downloads/recommender/testing.ipynb#X41sZmlsZQ%3D%3D?line=2'>3</a>\u001b[0m embeddings \u001b[39m=\u001b[39m []\n\u001b[1;32m      <a href='vscode-notebook-cell:/Users/ahmedewva/Downloads/recommender/testing.ipynb#X41sZmlsZQ%3D%3D?line=3'>4</a>\u001b[0m \u001b[39mfor\u001b[39;00m i \u001b[39min\u001b[39;00m \u001b[39mrange\u001b[39m(\u001b[39mlen\u001b[39m(ind_embeddings)):\n\u001b[0;32m----> <a href='vscode-notebook-cell:/Users/ahmedewva/Downloads/recommender/testing.ipynb#X41sZmlsZQ%3D%3D?line=4'>5</a>\u001b[0m     embedding \u001b[39m=\u001b[39m ind_embeddings[i] \u001b[39m+\u001b[39;49m kw_embeddings[i]\n",
      "\u001b[0;31mTypeError\u001b[0m: unsupported operand type(s) for +: 'float' and 'NoneType'"
     ]
    }
   ],
   "source": [
    "ind_embeddings = df[\"ind_embed\"].values\n",
    "kw_embeddings = df[\"kw_embed\"].values\n",
    "embeddings = []\n",
    "for i in range(len(ind_embeddings)):\n",
    "    try:\n",
    "        embedding = ind_embeddings[i] + kw_embeddings[i]\n",
    "    except:\n",
    "        print(kw_embeddings[i])\n",
    "        print(kw_)"
   ]
  },
  {
   "cell_type": "code",
   "execution_count": 125,
   "id": "ec0072cb",
   "metadata": {},
   "outputs": [
    {
     "ename": "NameError",
     "evalue": "name 'ind_embeddings' is not defined",
     "output_type": "error",
     "traceback": [
      "\u001b[0;31m---------------------------------------------------------------------------\u001b[0m",
      "\u001b[0;31mNameError\u001b[0m                                 Traceback (most recent call last)",
      "\u001b[1;32m/Users/ahmedewva/Downloads/recommender/testing.ipynb Cellule 11\u001b[0m in \u001b[0;36m<cell line: 1>\u001b[0;34m()\u001b[0m\n\u001b[0;32m----> <a href='vscode-notebook-cell:/Users/ahmedewva/Downloads/recommender/testing.ipynb#X42sZmlsZQ%3D%3D?line=0'>1</a>\u001b[0m ind_embeddings\n",
      "\u001b[0;31mNameError\u001b[0m: name 'ind_embeddings' is not defined"
     ]
    }
   ],
   "source": [
    "ind_embeddings"
   ]
  },
  {
   "cell_type": "code",
   "execution_count": null,
   "id": "2d78159f",
   "metadata": {},
   "outputs": [],
   "source": [
    "df[\"embeddings\"]"
   ]
  },
  {
   "cell_type": "code",
   "execution_count": 86,
   "id": "8f995772",
   "metadata": {},
   "outputs": [],
   "source": [
    "industries_emb = df[\"ind_embed\"].values\n",
    "keywords_emb = df[\"kw_embed\"].values"
   ]
  },
  {
   "cell_type": "code",
   "execution_count": 116,
   "id": "04c22b8d",
   "metadata": {},
   "outputs": [
    {
     "data": {
      "text/plain": [
       "(2846000,)"
      ]
     },
     "execution_count": 116,
     "metadata": {},
     "output_type": "execute_result"
    }
   ],
   "source": [
    "industries_emb.shape"
   ]
  },
  {
   "cell_type": "code",
   "execution_count": 20,
   "id": "05614c99",
   "metadata": {},
   "outputs": [
    {
     "data": {
      "text/plain": [
       "\"['semiconductor', 'marketing', 'information', 'technology', 'product', 'management', 'legal', 'business', 'development', 'human', 'resources', 'operations', 'education', 'support', 'finance', 'media', 'commmunication', 'semiconductors', 'engineering', 'sales']\""
      ]
     },
     "execution_count": 20,
     "metadata": {},
     "output_type": "execute_result"
    }
   ],
   "source": [
    "df[\"tokens_industries\"].values[0]"
   ]
  },
  {
   "cell_type": "code",
   "execution_count": 96,
   "id": "f4acd733",
   "metadata": {},
   "outputs": [
    {
     "data": {
      "application/vnd.jupyter.widget-view+json": {
       "model_id": "62a3267dcb494bc6b74f1fcbc28c740e",
       "version_major": 2,
       "version_minor": 0
      },
      "text/plain": [
       "  0%|          | 0/2846000 [00:00<?, ?it/s]"
      ]
     },
     "metadata": {},
     "output_type": "display_data"
    }
   ],
   "source": [
    "embedd_list = []\n",
    "for e in tqdm(list(industries_emb)):\n",
    "    try:\n",
    "        embedd_list.append(list(e))\n",
    "    except:\n",
    "        embedd_list.append(list(np.zeros(50)))"
   ]
  },
  {
   "cell_type": "code",
   "execution_count": 105,
   "id": "23d71e0e",
   "metadata": {},
   "outputs": [],
   "source": [
    "kmeans = KMeans(n_clusters=20, random_state=0).fit(np.array(embedd_list))"
   ]
  },
  {
   "cell_type": "code",
   "execution_count": 106,
   "id": "2a864f35",
   "metadata": {},
   "outputs": [
    {
     "name": "stdout",
     "output_type": "stream",
     "text": [
      "Initialization complete\n",
      "Iteration 0, inertia 5921472.511018308\n",
      "Iteration 1, inertia 4276336.228772683\n",
      "Iteration 2, inertia 4102486.2424195176\n",
      "Iteration 3, inertia 4036086.4487242484\n",
      "Iteration 4, inertia 4003852.6827981556\n",
      "Iteration 5, inertia 3989269.82774539\n",
      "Iteration 6, inertia 3982111.4418778173\n",
      "Iteration 7, inertia 3978342.1674371553\n",
      "Iteration 8, inertia 3977438.392885362\n",
      "Iteration 9, inertia 3971036.2961184187\n",
      "Iteration 10, inertia 3969546.4415690624\n",
      "Iteration 11, inertia 3969350.7998410817\n",
      "Iteration 12, inertia 3969314.1039630687\n",
      "Converged at iteration 12: center shift 1.34863313984511e-05 within tolerance 1.5604552531249312e-05.\n",
      "Initialization complete\n",
      "Iteration 0, inertia 5374100.892183979\n",
      "Iteration 1, inertia 4046211.5496991547\n",
      "Iteration 2, inertia 3979798.405200597\n",
      "Iteration 3, inertia 3948990.217014883\n",
      "Iteration 4, inertia 3936655.5639018756\n",
      "Iteration 5, inertia 3932143.998106585\n",
      "Iteration 6, inertia 3930525.0635232623\n",
      "Iteration 7, inertia 3928433.004078993\n",
      "Iteration 8, inertia 3927511.9615595634\n",
      "Iteration 9, inertia 3923392.3188356506\n",
      "Iteration 10, inertia 3919185.9542589122\n",
      "Iteration 11, inertia 3917437.8373614955\n",
      "Iteration 12, inertia 3916248.1600710438\n",
      "Iteration 13, inertia 3915935.610967044\n",
      "Iteration 14, inertia 3915802.492338036\n",
      "Iteration 15, inertia 3915785.2205976853\n",
      "Iteration 16, inertia 3915784.0179875107\n",
      "Iteration 17, inertia 3915782.969818342\n",
      "Converged at iteration 17: center shift 1.334208881137017e-06 within tolerance 1.5604552531249312e-05.\n",
      "Initialization complete\n",
      "Iteration 0, inertia 5595690.870445141\n",
      "Iteration 1, inertia 4146091.0307571\n",
      "Iteration 2, inertia 4059306.511914599\n",
      "Iteration 3, inertia 4015824.110381265\n",
      "Iteration 4, inertia 3998963.2703597667\n",
      "Iteration 5, inertia 3991429.500839388\n",
      "Iteration 6, inertia 3982869.1419194597\n",
      "Iteration 7, inertia 3977294.797244964\n",
      "Iteration 8, inertia 3974701.2395672193\n",
      "Iteration 9, inertia 3973869.8140487312\n",
      "Iteration 10, inertia 3973816.213773708\n",
      "Iteration 11, inertia 3973767.87825957\n",
      "Iteration 12, inertia 3973765.0759345256\n",
      "Iteration 13, inertia 3973762.2094673887\n",
      "Iteration 14, inertia 3973748.979864822\n",
      "Converged at iteration 14: center shift 2.75836123023636e-06 within tolerance 1.5604552531249312e-05.\n",
      "Initialization complete\n",
      "Iteration 0, inertia 5510665.830362506\n",
      "Iteration 1, inertia 4051874.532213443\n",
      "Iteration 2, inertia 3970184.812667676\n",
      "Iteration 3, inertia 3947678.8698143433\n",
      "Iteration 4, inertia 3928100.4520592983\n",
      "Iteration 5, inertia 3922823.9162805807\n",
      "Iteration 6, inertia 3921099.894701982\n",
      "Iteration 7, inertia 3917107.8023444465\n",
      "Iteration 8, inertia 3903933.8062857874\n",
      "Iteration 9, inertia 3899397.5276159933\n",
      "Iteration 10, inertia 3895286.9061390324\n",
      "Iteration 11, inertia 3877123.8615639145\n",
      "Iteration 12, inertia 3860201.2042048834\n",
      "Iteration 13, inertia 3841307.8271418572\n",
      "Iteration 14, inertia 3837323.566088466\n",
      "Iteration 15, inertia 3836097.025774602\n",
      "Iteration 16, inertia 3830958.0049492586\n",
      "Iteration 17, inertia 3829915.255000276\n",
      "Iteration 18, inertia 3829296.442837163\n",
      "Iteration 19, inertia 3829043.1241722945\n",
      "Iteration 20, inertia 3828996.9731757287\n",
      "Iteration 21, inertia 3828993.845341329\n",
      "Converged at iteration 21: center shift 7.3076015565007e-07 within tolerance 1.5604552531249312e-05.\n",
      "Initialization complete\n",
      "Iteration 0, inertia 5541381.244052991\n",
      "Iteration 1, inertia 4212133.145160556\n",
      "Iteration 2, inertia 4061487.0905961785\n",
      "Iteration 3, inertia 4016538.7529951544\n",
      "Iteration 4, inertia 4003442.333235561\n",
      "Iteration 5, inertia 3997047.6054828614\n",
      "Iteration 6, inertia 3995804.4101575203\n",
      "Iteration 7, inertia 3995557.1358931554\n",
      "Iteration 8, inertia 3995505.929643807\n",
      "Iteration 9, inertia 3995454.5396572007\n",
      "Iteration 10, inertia 3995441.511292159\n",
      "Iteration 11, inertia 3995438.4322786517\n",
      "Converged at iteration 11: center shift 1.278652896650657e-06 within tolerance 1.5604552531249312e-05.\n",
      "Initialization complete\n",
      "Iteration 0, inertia 5883459.233550022\n",
      "Iteration 1, inertia 4186658.370891676\n",
      "Iteration 2, inertia 4001323.22268452\n",
      "Iteration 3, inertia 3889539.15174371\n",
      "Iteration 4, inertia 3870881.3118303823\n",
      "Iteration 5, inertia 3868324.51887751\n",
      "Iteration 6, inertia 3866924.909562853\n",
      "Iteration 7, inertia 3861275.116758871\n",
      "Iteration 8, inertia 3860101.3236360014\n",
      "Iteration 9, inertia 3856380.67270936\n",
      "Iteration 10, inertia 3856364.287790117\n",
      "Converged at iteration 10: center shift 7.989899816673081e-06 within tolerance 1.5604552531249312e-05.\n",
      "Initialization complete\n",
      "Iteration 0, inertia 5602143.492665015\n",
      "Iteration 1, inertia 4090757.673818642\n",
      "Iteration 2, inertia 3911174.0019212053\n",
      "Iteration 3, inertia 3883737.250744858\n",
      "Iteration 4, inertia 3877250.305440868\n",
      "Iteration 5, inertia 3875880.302731942\n",
      "Iteration 6, inertia 3875520.72654845\n",
      "Iteration 7, inertia 3875387.112404539\n",
      "Iteration 8, inertia 3875187.204577471\n",
      "Iteration 9, inertia 3874854.1252430305\n",
      "Iteration 10, inertia 3874547.2048771344\n",
      "Iteration 11, inertia 3873951.1682043453\n",
      "Iteration 12, inertia 3872948.8923582127\n",
      "Iteration 13, inertia 3870319.0723019512\n",
      "Iteration 14, inertia 3861471.02442825\n",
      "Iteration 15, inertia 3849978.958512481\n",
      "Iteration 16, inertia 3847820.432727977\n",
      "Iteration 17, inertia 3846583.5180273177\n",
      "Iteration 18, inertia 3846416.471413795\n",
      "Converged at iteration 18: center shift 1.1244832077548648e-05 within tolerance 1.5604552531249312e-05.\n",
      "Initialization complete\n",
      "Iteration 0, inertia 5906753.80163726\n",
      "Iteration 1, inertia 4274410.549984095\n",
      "Iteration 2, inertia 4175732.652362684\n",
      "Iteration 3, inertia 4122021.4707396966\n",
      "Iteration 4, inertia 4094157.110256932\n",
      "Iteration 5, inertia 4077103.6387836663\n",
      "Iteration 6, inertia 4026849.754438139\n",
      "Iteration 7, inertia 4015028.497235044\n",
      "Iteration 8, inertia 4006688.263016233\n",
      "Iteration 9, inertia 3994201.2990201185\n",
      "Iteration 10, inertia 3988764.221459054\n",
      "Iteration 11, inertia 3987478.4243342164\n",
      "Iteration 12, inertia 3987382.145661301\n",
      "Iteration 13, inertia 3987361.5277507086\n",
      "Iteration 14, inertia 3987356.907983739\n",
      "Converged at iteration 14: center shift 9.73850456481644e-06 within tolerance 1.5604552531249312e-05.\n",
      "Initialization complete\n",
      "Iteration 0, inertia 5545403.824666863\n",
      "Iteration 1, inertia 4212480.654337246\n",
      "Iteration 2, inertia 4121201.6387911974\n",
      "Iteration 3, inertia 4098724.973750078\n",
      "Iteration 4, inertia 4074250.170781155\n",
      "Iteration 5, inertia 4066069.1352741267\n",
      "Iteration 6, inertia 4064961.5634106775\n",
      "Iteration 7, inertia 4059886.921347952\n",
      "Iteration 8, inertia 4057476.312367485\n",
      "Iteration 9, inertia 4054591.4369439115\n",
      "Iteration 10, inertia 4053570.1712386045\n",
      "Iteration 11, inertia 4053051.6518399734\n",
      "Iteration 12, inertia 4052976.2605192796\n",
      "Iteration 13, inertia 4052939.1021585073\n",
      "Iteration 14, inertia 4052934.168245721\n",
      "Converged at iteration 14: center shift 5.69155084755211e-07 within tolerance 1.5604552531249312e-05.\n",
      "Initialization complete\n",
      "Iteration 0, inertia 5627656.330398159\n",
      "Iteration 1, inertia 4222586.252909519\n",
      "Iteration 2, inertia 4055147.740983381\n",
      "Iteration 3, inertia 3960839.579736964\n",
      "Iteration 4, inertia 3915576.2708623307\n",
      "Iteration 5, inertia 3899526.5793381697\n",
      "Iteration 6, inertia 3882618.4303410053\n",
      "Iteration 7, inertia 3879954.8001595587\n",
      "Iteration 8, inertia 3865691.6387056806\n",
      "Iteration 9, inertia 3864844.220307298\n",
      "Iteration 10, inertia 3864717.9599025184\n",
      "Iteration 11, inertia 3863368.7913984754\n",
      "Iteration 12, inertia 3855357.9139421033\n",
      "Iteration 13, inertia 3853385.440243014\n",
      "Iteration 14, inertia 3849052.886380391\n",
      "Iteration 15, inertia 3847233.6636829227\n",
      "Iteration 16, inertia 3845911.3975519137\n",
      "Iteration 17, inertia 3844996.7766572763\n",
      "Iteration 18, inertia 3844387.275443052\n",
      "Iteration 19, inertia 3844118.3633637773\n",
      "Iteration 20, inertia 3844050.404370745\n",
      "Iteration 21, inertia 3844002.244091284\n",
      "Converged at iteration 21: center shift 8.651006109169127e-06 within tolerance 1.5604552531249312e-05.\n"
     ]
    }
   ],
   "source": [
    "kmeans = KMeans(n_clusters=20, random_state=0, verbose=True).fit(np.array(embedd_list))"
   ]
  },
  {
   "cell_type": "code",
   "execution_count": 34,
   "metadata": {},
   "outputs": [],
   "source": []
  },
  {
   "cell_type": "code",
   "execution_count": 107,
   "id": "2a39629f",
   "metadata": {},
   "outputs": [],
   "source": [
    "examples = give_examples_of_clusters(20, kmeans)"
   ]
  },
  {
   "cell_type": "code",
   "execution_count": 109,
   "id": "5d8073d7",
   "metadata": {},
   "outputs": [
    {
     "name": "stdout",
     "output_type": "stream",
     "text": [
      "['law', 'practice', 'legal', 'services']\n",
      "nan\n",
      "['political', 'organization']\n",
      "['electrical', 'electronic', 'manufacturing']\n",
      "['professional', 'training', 'coaching']\n",
      "nan\n",
      "['facilities', 'services']\n",
      "['hematology', 'cytology', 'client', 'service', 'pathology', 'phlebotomy', 'clinical', 'chemistry', 'laboratory', 'medicine', 'patient', 'care', 'hospital', 'health', 'care']\n",
      "nan\n",
      "['finance']\n",
      "nan\n",
      "nan\n",
      "['hospital', 'health', 'care']\n",
      "['trainingen', 'sales', 'social', 'media', 'business', 'development', 'communication', 'personal', 'development', 'professional', 'training', 'coaching', 'consumer', 'internet', 'consumers', 'internet', 'information', 'technology', 'services', 'communications']\n",
      "nan\n",
      "['live', 'events', 'strategic', 'marketing', 'plan', 'trade', 'shows', 'websites', 'referral', 'marketing', 'brand', 'development', 'advertising', 'multichannel', 'direct', 'marketing', 'national', 'sales', 'meetings', 'ambassador', 'marketing', 'social', 'media', 'roi', 'modeling', 'sales', 'collateral', 'marketing', 'advertising', 'events', 'services', 'consumer', 'internet', 'consumers', 'internet', 'information', 'technology', 'services']\n",
      "['speaker', 'training', 'packaging', 'specialist', 'professional', 'training', 'coaching']\n",
      "nan\n",
      "nan\n",
      "['international', 'trade', 'development']\n"
     ]
    }
   ],
   "source": [
    "for i in examples[1]:\n",
    "    print(df[\"tokens_keywords\"].values[i])"
   ]
  },
  {
   "cell_type": "code",
   "execution_count": null,
   "id": "3e8f55db",
   "metadata": {},
   "outputs": [],
   "source": []
  },
  {
   "cell_type": "code",
   "execution_count": 97,
   "id": "772ee500",
   "metadata": {},
   "outputs": [
    {
     "data": {
      "text/plain": [
       "NearestNeighbors(n_neighbors=2, radius=0.4)"
      ]
     },
     "execution_count": 97,
     "metadata": {},
     "output_type": "execute_result"
    }
   ],
   "source": [
    "neigh = NearestNeighbors(n_neighbors=2, radius=0.4)\n",
    "#neigh.fit(X)\n",
    "neigh.fit(np.array(embedd_list))"
   ]
  },
  {
   "cell_type": "code",
   "execution_count": null,
   "id": "823a4b7b",
   "metadata": {},
   "outputs": [],
   "source": []
  },
  {
   "cell_type": "code",
   "execution_count": 103,
   "id": "e683afd1",
   "metadata": {},
   "outputs": [
    {
     "name": "stdout",
     "output_type": "stream",
     "text": [
      "['public', 'relations', 'communication', 'consulting', 'media', 'commmunication', 'marketing']\n"
     ]
    }
   ],
   "source": [
    "indx = 108004\n",
    "neighbours = neigh.kneighbors([np.array(embedd_list)[indx]], 10, return_distance=False)\n",
    "print(df[\"tokens_industries\"].values[indx])\n"
   ]
  },
  {
   "cell_type": "code",
   "execution_count": 104,
   "id": "a39be372",
   "metadata": {},
   "outputs": [
    {
     "name": "stdout",
     "output_type": "stream",
     "text": [
      "[\"['design', 'marketing', 'business', 'development', 'consulting']\"\n",
      " \"['real', 'estate', 'industry', 'consulting', 'marketing', 'real', 'estate', 'industry']\"\n",
      " \"['marketing', 'consulting', 'marketing', 'advertisement']\"\n",
      " \"['marketing', 'consulting', 'marketing', 'advertisement']\"\n",
      " \"['higher', 'education', 'marketing', 'consulting']\"\n",
      " \"['marketing', 'advertisement', 'consulting', 'marketing', 'marketing', 'advertisement']\"\n",
      " \"['informationstechnologie', 'marketing', 'business', 'development', 'consulting', 'management', 'consulting']\"\n",
      " \"['higher', 'education', 'state', 'administration', 'media', 'commmunication', 'information', 'technology', 'consulting', 'informationstechnologie', 'marketing', 'writing', 'journalism', 'human', 'resources']\"\n",
      " \"['marketing', 'consulting', 'business', 'development', 'marketing', 'advertisement']\"\n",
      " \"['management', 'consulting', 'marketing', 'consulting']\"]\n"
     ]
    }
   ],
   "source": [
    "for i in neighbours:\n",
    "    print(df[\"tokens_industries\"].values[i])"
   ]
  },
  {
   "cell_type": "code",
   "execution_count": 110,
   "id": "72403cb2",
   "metadata": {},
   "outputs": [
    {
     "name": "stderr",
     "output_type": "stream",
     "text": [
      "/Users/ahmedewva/opt/anaconda3/envs/idp/lib/python3.9/site-packages/sklearn/manifold/_t_sne.py:780: FutureWarning: The default initialization in TSNE will change from 'random' to 'pca' in 1.2.\n",
      "  warnings.warn(\n",
      "/Users/ahmedewva/opt/anaconda3/envs/idp/lib/python3.9/site-packages/sklearn/manifold/_t_sne.py:790: FutureWarning: The default learning rate in TSNE will change from 200.0 to 'auto' in 1.2.\n",
      "  warnings.warn(\n"
     ]
    },
    {
     "name": "stdout",
     "output_type": "stream",
     "text": [
      "[t-SNE] Computing 91 nearest neighbors...\n",
      "[t-SNE] Indexed 2846000 samples in 0.116s...\n"
     ]
    },
    {
     "ename": "KeyboardInterrupt",
     "evalue": "",
     "output_type": "error",
     "traceback": [
      "\u001b[0;31m---------------------------------------------------------------------------\u001b[0m",
      "\u001b[0;31mKeyboardInterrupt\u001b[0m                         Traceback (most recent call last)",
      "\u001b[1;32m/Users/ahmedewva/Downloads/recommender/testing.ipynb Cellule 22\u001b[0m in \u001b[0;36m<cell line: 1>\u001b[0;34m()\u001b[0m\n\u001b[0;32m----> <a href='vscode-notebook-cell:/Users/ahmedewva/Downloads/recommender/testing.ipynb#X31sZmlsZQ%3D%3D?line=0'>1</a>\u001b[0m Xtsne \u001b[39m=\u001b[39m TSNE(n_components\u001b[39m=\u001b[39;49m\u001b[39m2\u001b[39;49m, verbose\u001b[39m=\u001b[39;49m\u001b[39mTrue\u001b[39;49;00m)\u001b[39m.\u001b[39;49mfit_transform(np\u001b[39m.\u001b[39;49marray(embedd_list))\n\u001b[1;32m      <a href='vscode-notebook-cell:/Users/ahmedewva/Downloads/recommender/testing.ipynb#X31sZmlsZQ%3D%3D?line=1'>2</a>\u001b[0m dftsne \u001b[39m=\u001b[39m pd\u001b[39m.\u001b[39mDataFrame(Xtsne)\n",
      "File \u001b[0;32m~/opt/anaconda3/envs/idp/lib/python3.9/site-packages/sklearn/manifold/_t_sne.py:1108\u001b[0m, in \u001b[0;36mTSNE.fit_transform\u001b[0;34m(self, X, y)\u001b[0m\n\u001b[1;32m   1088\u001b[0m \u001b[39mdef\u001b[39;00m \u001b[39mfit_transform\u001b[39m(\u001b[39mself\u001b[39m, X, y\u001b[39m=\u001b[39m\u001b[39mNone\u001b[39;00m):\n\u001b[1;32m   1089\u001b[0m     \u001b[39m\"\"\"Fit X into an embedded space and return that transformed output.\u001b[39;00m\n\u001b[1;32m   1090\u001b[0m \n\u001b[1;32m   1091\u001b[0m \u001b[39m    Parameters\u001b[39;00m\n\u001b[0;32m   (...)\u001b[0m\n\u001b[1;32m   1106\u001b[0m \u001b[39m        Embedding of the training data in low-dimensional space.\u001b[39;00m\n\u001b[1;32m   1107\u001b[0m \u001b[39m    \"\"\"\u001b[39;00m\n\u001b[0;32m-> 1108\u001b[0m     embedding \u001b[39m=\u001b[39m \u001b[39mself\u001b[39;49m\u001b[39m.\u001b[39;49m_fit(X)\n\u001b[1;32m   1109\u001b[0m     \u001b[39mself\u001b[39m\u001b[39m.\u001b[39membedding_ \u001b[39m=\u001b[39m embedding\n\u001b[1;32m   1110\u001b[0m     \u001b[39mreturn\u001b[39;00m \u001b[39mself\u001b[39m\u001b[39m.\u001b[39membedding_\n",
      "File \u001b[0;32m~/opt/anaconda3/envs/idp/lib/python3.9/site-packages/sklearn/manifold/_t_sne.py:947\u001b[0m, in \u001b[0;36mTSNE._fit\u001b[0;34m(self, X, skip_num_points)\u001b[0m\n\u001b[1;32m    940\u001b[0m     \u001b[39mprint\u001b[39m(\n\u001b[1;32m    941\u001b[0m         \u001b[39m\"\u001b[39m\u001b[39m[t-SNE] Indexed \u001b[39m\u001b[39m{}\u001b[39;00m\u001b[39m samples in \u001b[39m\u001b[39m{:.3f}\u001b[39;00m\u001b[39ms...\u001b[39m\u001b[39m\"\u001b[39m\u001b[39m.\u001b[39mformat(\n\u001b[1;32m    942\u001b[0m             n_samples, duration\n\u001b[1;32m    943\u001b[0m         )\n\u001b[1;32m    944\u001b[0m     )\n\u001b[1;32m    946\u001b[0m t0 \u001b[39m=\u001b[39m time()\n\u001b[0;32m--> 947\u001b[0m distances_nn \u001b[39m=\u001b[39m knn\u001b[39m.\u001b[39;49mkneighbors_graph(mode\u001b[39m=\u001b[39;49m\u001b[39m\"\u001b[39;49m\u001b[39mdistance\u001b[39;49m\u001b[39m\"\u001b[39;49m)\n\u001b[1;32m    948\u001b[0m duration \u001b[39m=\u001b[39m time() \u001b[39m-\u001b[39m t0\n\u001b[1;32m    949\u001b[0m \u001b[39mif\u001b[39;00m \u001b[39mself\u001b[39m\u001b[39m.\u001b[39mverbose:\n",
      "File \u001b[0;32m~/opt/anaconda3/envs/idp/lib/python3.9/site-packages/sklearn/neighbors/_base.py:886\u001b[0m, in \u001b[0;36mKNeighborsMixin.kneighbors_graph\u001b[0;34m(self, X, n_neighbors, mode)\u001b[0m\n\u001b[1;32m    883\u001b[0m     A_data \u001b[39m=\u001b[39m np\u001b[39m.\u001b[39mones(n_queries \u001b[39m*\u001b[39m n_neighbors)\n\u001b[1;32m    885\u001b[0m \u001b[39melif\u001b[39;00m mode \u001b[39m==\u001b[39m \u001b[39m\"\u001b[39m\u001b[39mdistance\u001b[39m\u001b[39m\"\u001b[39m:\n\u001b[0;32m--> 886\u001b[0m     A_data, A_ind \u001b[39m=\u001b[39m \u001b[39mself\u001b[39;49m\u001b[39m.\u001b[39;49mkneighbors(X, n_neighbors, return_distance\u001b[39m=\u001b[39;49m\u001b[39mTrue\u001b[39;49;00m)\n\u001b[1;32m    887\u001b[0m     A_data \u001b[39m=\u001b[39m np\u001b[39m.\u001b[39mravel(A_data)\n\u001b[1;32m    889\u001b[0m \u001b[39melse\u001b[39;00m:\n",
      "File \u001b[0;32m~/opt/anaconda3/envs/idp/lib/python3.9/site-packages/sklearn/neighbors/_base.py:752\u001b[0m, in \u001b[0;36mKNeighborsMixin.kneighbors\u001b[0;34m(self, X, n_neighbors, return_distance)\u001b[0m\n\u001b[1;32m    749\u001b[0m     \u001b[39melse\u001b[39;00m:\n\u001b[1;32m    750\u001b[0m         kwds \u001b[39m=\u001b[39m \u001b[39mself\u001b[39m\u001b[39m.\u001b[39meffective_metric_params_\n\u001b[0;32m--> 752\u001b[0m     chunked_results \u001b[39m=\u001b[39m \u001b[39mlist\u001b[39;49m(\n\u001b[1;32m    753\u001b[0m         pairwise_distances_chunked(\n\u001b[1;32m    754\u001b[0m             X,\n\u001b[1;32m    755\u001b[0m             \u001b[39mself\u001b[39;49m\u001b[39m.\u001b[39;49m_fit_X,\n\u001b[1;32m    756\u001b[0m             reduce_func\u001b[39m=\u001b[39;49mreduce_func,\n\u001b[1;32m    757\u001b[0m             metric\u001b[39m=\u001b[39;49m\u001b[39mself\u001b[39;49m\u001b[39m.\u001b[39;49meffective_metric_,\n\u001b[1;32m    758\u001b[0m             n_jobs\u001b[39m=\u001b[39;49mn_jobs,\n\u001b[1;32m    759\u001b[0m             \u001b[39m*\u001b[39;49m\u001b[39m*\u001b[39;49mkwds,\n\u001b[1;32m    760\u001b[0m         )\n\u001b[1;32m    761\u001b[0m     )\n\u001b[1;32m    763\u001b[0m \u001b[39melif\u001b[39;00m \u001b[39mself\u001b[39m\u001b[39m.\u001b[39m_fit_method \u001b[39min\u001b[39;00m [\u001b[39m\"\u001b[39m\u001b[39mball_tree\u001b[39m\u001b[39m\"\u001b[39m, \u001b[39m\"\u001b[39m\u001b[39mkd_tree\u001b[39m\u001b[39m\"\u001b[39m]:\n\u001b[1;32m    764\u001b[0m     \u001b[39mif\u001b[39;00m issparse(X):\n",
      "File \u001b[0;32m~/opt/anaconda3/envs/idp/lib/python3.9/site-packages/sklearn/metrics/pairwise.py:1717\u001b[0m, in \u001b[0;36mpairwise_distances_chunked\u001b[0;34m(X, Y, reduce_func, metric, n_jobs, working_memory, **kwds)\u001b[0m\n\u001b[1;32m   1715\u001b[0m \u001b[39melse\u001b[39;00m:\n\u001b[1;32m   1716\u001b[0m     X_chunk \u001b[39m=\u001b[39m X[sl]\n\u001b[0;32m-> 1717\u001b[0m D_chunk \u001b[39m=\u001b[39m pairwise_distances(X_chunk, Y, metric\u001b[39m=\u001b[39;49mmetric, n_jobs\u001b[39m=\u001b[39;49mn_jobs, \u001b[39m*\u001b[39;49m\u001b[39m*\u001b[39;49mkwds)\n\u001b[1;32m   1718\u001b[0m \u001b[39mif\u001b[39;00m (X \u001b[39mis\u001b[39;00m Y \u001b[39mor\u001b[39;00m Y \u001b[39mis\u001b[39;00m \u001b[39mNone\u001b[39;00m) \u001b[39mand\u001b[39;00m PAIRWISE_DISTANCE_FUNCTIONS\u001b[39m.\u001b[39mget(\n\u001b[1;32m   1719\u001b[0m     metric, \u001b[39mNone\u001b[39;00m\n\u001b[1;32m   1720\u001b[0m ) \u001b[39mis\u001b[39;00m euclidean_distances:\n\u001b[1;32m   1721\u001b[0m     \u001b[39m# zeroing diagonal, taking care of aliases of \"euclidean\",\u001b[39;00m\n\u001b[1;32m   1722\u001b[0m     \u001b[39m# i.e. \"l2\"\u001b[39;00m\n\u001b[1;32m   1723\u001b[0m     D_chunk\u001b[39m.\u001b[39mflat[sl\u001b[39m.\u001b[39mstart :: _num_samples(X) \u001b[39m+\u001b[39m \u001b[39m1\u001b[39m] \u001b[39m=\u001b[39m \u001b[39m0\u001b[39m\n",
      "File \u001b[0;32m~/opt/anaconda3/envs/idp/lib/python3.9/site-packages/sklearn/metrics/pairwise.py:1889\u001b[0m, in \u001b[0;36mpairwise_distances\u001b[0;34m(X, Y, metric, n_jobs, force_all_finite, **kwds)\u001b[0m\n\u001b[1;32m   1886\u001b[0m         \u001b[39mreturn\u001b[39;00m distance\u001b[39m.\u001b[39msquareform(distance\u001b[39m.\u001b[39mpdist(X, metric\u001b[39m=\u001b[39mmetric, \u001b[39m*\u001b[39m\u001b[39m*\u001b[39mkwds))\n\u001b[1;32m   1887\u001b[0m     func \u001b[39m=\u001b[39m partial(distance\u001b[39m.\u001b[39mcdist, metric\u001b[39m=\u001b[39mmetric, \u001b[39m*\u001b[39m\u001b[39m*\u001b[39mkwds)\n\u001b[0;32m-> 1889\u001b[0m \u001b[39mreturn\u001b[39;00m _parallel_pairwise(X, Y, func, n_jobs, \u001b[39m*\u001b[39;49m\u001b[39m*\u001b[39;49mkwds)\n",
      "File \u001b[0;32m~/opt/anaconda3/envs/idp/lib/python3.9/site-packages/sklearn/metrics/pairwise.py:1430\u001b[0m, in \u001b[0;36m_parallel_pairwise\u001b[0;34m(X, Y, func, n_jobs, **kwds)\u001b[0m\n\u001b[1;32m   1427\u001b[0m X, Y, dtype \u001b[39m=\u001b[39m _return_float_dtype(X, Y)\n\u001b[1;32m   1429\u001b[0m \u001b[39mif\u001b[39;00m effective_n_jobs(n_jobs) \u001b[39m==\u001b[39m \u001b[39m1\u001b[39m:\n\u001b[0;32m-> 1430\u001b[0m     \u001b[39mreturn\u001b[39;00m func(X, Y, \u001b[39m*\u001b[39;49m\u001b[39m*\u001b[39;49mkwds)\n\u001b[1;32m   1432\u001b[0m \u001b[39m# enforce a threading backend to prevent data communication overhead\u001b[39;00m\n\u001b[1;32m   1433\u001b[0m fd \u001b[39m=\u001b[39m delayed(_dist_wrapper)\n",
      "File \u001b[0;32m~/opt/anaconda3/envs/idp/lib/python3.9/site-packages/sklearn/metrics/pairwise.py:330\u001b[0m, in \u001b[0;36meuclidean_distances\u001b[0;34m(X, Y, Y_norm_squared, squared, X_norm_squared)\u001b[0m\n\u001b[1;32m    324\u001b[0m     \u001b[39mif\u001b[39;00m Y_norm_squared\u001b[39m.\u001b[39mshape \u001b[39m!=\u001b[39m (\u001b[39m1\u001b[39m, Y\u001b[39m.\u001b[39mshape[\u001b[39m0\u001b[39m]):\n\u001b[1;32m    325\u001b[0m         \u001b[39mraise\u001b[39;00m \u001b[39mValueError\u001b[39;00m(\n\u001b[1;32m    326\u001b[0m             \u001b[39mf\u001b[39m\u001b[39m\"\u001b[39m\u001b[39mIncompatible dimensions for Y of shape \u001b[39m\u001b[39m{\u001b[39;00mY\u001b[39m.\u001b[39mshape\u001b[39m}\u001b[39;00m\u001b[39m and \u001b[39m\u001b[39m\"\u001b[39m\n\u001b[1;32m    327\u001b[0m             \u001b[39mf\u001b[39m\u001b[39m\"\u001b[39m\u001b[39mY_norm_squared of shape \u001b[39m\u001b[39m{\u001b[39;00moriginal_shape\u001b[39m}\u001b[39;00m\u001b[39m.\u001b[39m\u001b[39m\"\u001b[39m\n\u001b[1;32m    328\u001b[0m         )\n\u001b[0;32m--> 330\u001b[0m \u001b[39mreturn\u001b[39;00m _euclidean_distances(X, Y, X_norm_squared, Y_norm_squared, squared)\n",
      "File \u001b[0;32m~/opt/anaconda3/envs/idp/lib/python3.9/site-packages/sklearn/metrics/pairwise.py:371\u001b[0m, in \u001b[0;36m_euclidean_distances\u001b[0;34m(X, Y, X_norm_squared, Y_norm_squared, squared)\u001b[0m\n\u001b[1;32m    368\u001b[0m     distances \u001b[39m=\u001b[39m _euclidean_distances_upcast(X, XX, Y, YY)\n\u001b[1;32m    369\u001b[0m \u001b[39melse\u001b[39;00m:\n\u001b[1;32m    370\u001b[0m     \u001b[39m# if dtype is already float64, no need to chunk and upcast\u001b[39;00m\n\u001b[0;32m--> 371\u001b[0m     distances \u001b[39m=\u001b[39m \u001b[39m-\u001b[39m\u001b[39m2\u001b[39m \u001b[39m*\u001b[39m safe_sparse_dot(X, Y\u001b[39m.\u001b[39;49mT, dense_output\u001b[39m=\u001b[39;49m\u001b[39mTrue\u001b[39;49;00m)\n\u001b[1;32m    372\u001b[0m     distances \u001b[39m+\u001b[39m\u001b[39m=\u001b[39m XX\n\u001b[1;32m    373\u001b[0m     distances \u001b[39m+\u001b[39m\u001b[39m=\u001b[39m YY\n",
      "File \u001b[0;32m~/opt/anaconda3/envs/idp/lib/python3.9/site-packages/sklearn/utils/extmath.py:153\u001b[0m, in \u001b[0;36msafe_sparse_dot\u001b[0;34m(a, b, dense_output)\u001b[0m\n\u001b[1;32m    151\u001b[0m         ret \u001b[39m=\u001b[39m np\u001b[39m.\u001b[39mdot(a, b)\n\u001b[1;32m    152\u001b[0m \u001b[39melse\u001b[39;00m:\n\u001b[0;32m--> 153\u001b[0m     ret \u001b[39m=\u001b[39m a \u001b[39m@\u001b[39;49m b\n\u001b[1;32m    155\u001b[0m \u001b[39mif\u001b[39;00m (\n\u001b[1;32m    156\u001b[0m     sparse\u001b[39m.\u001b[39missparse(a)\n\u001b[1;32m    157\u001b[0m     \u001b[39mand\u001b[39;00m sparse\u001b[39m.\u001b[39missparse(b)\n\u001b[1;32m    158\u001b[0m     \u001b[39mand\u001b[39;00m dense_output\n\u001b[1;32m    159\u001b[0m     \u001b[39mand\u001b[39;00m \u001b[39mhasattr\u001b[39m(ret, \u001b[39m\"\u001b[39m\u001b[39mtoarray\u001b[39m\u001b[39m\"\u001b[39m)\n\u001b[1;32m    160\u001b[0m ):\n\u001b[1;32m    161\u001b[0m     \u001b[39mreturn\u001b[39;00m ret\u001b[39m.\u001b[39mtoarray()\n",
      "\u001b[0;31mKeyboardInterrupt\u001b[0m: "
     ]
    }
   ],
   "source": [
    "Xtsne = TSNE(n_components=2, verbose=True).fit_transform(np.array(embedd_list))\n",
    "dftsne = pd.DataFrame(Xtsne)"
   ]
  },
  {
   "cell_type": "code",
   "execution_count": null,
   "id": "659e38a0",
   "metadata": {},
   "outputs": [],
   "source": [
    "dftsne['cluster'] = kmeans.labels_\n",
    "dftsne.columns = ['x1','x2','cluster']\n",
    "fig, ax = plt.subplots(1, figsize=(16,8))\n",
    "sns.scatterplot(data=dftsne,x='x1',y='x2',hue='cluster',legend=\"full\",  palette=\"deep\",alpha=0.5,ax=ax)\n",
    "ax.set_title('Visualized on TSNE 2D')"
   ]
  },
  {
   "cell_type": "code",
   "execution_count": 114,
   "id": "640f4744",
   "metadata": {},
   "outputs": [
    {
     "data": {
      "text/plain": [
       "1.15910005569458"
      ]
     },
     "execution_count": 114,
     "metadata": {},
     "output_type": "execute_result"
    }
   ],
   "source": [
    "df[\"ind_embed\"].values[0]"
   ]
  },
  {
   "cell_type": "code",
   "execution_count": null,
   "id": "31dfd8e5",
   "metadata": {},
   "outputs": [],
   "source": []
  }
 ],
 "metadata": {
  "kernelspec": {
   "display_name": "Python 3.9.12 ('idp')",
   "language": "python",
   "name": "python3"
  },
  "language_info": {
   "codemirror_mode": {
    "name": "ipython",
    "version": 3
   },
   "file_extension": ".py",
   "mimetype": "text/x-python",
   "name": "python",
   "nbconvert_exporter": "python",
   "pygments_lexer": "ipython3",
   "version": "3.9.12"
  },
  "vscode": {
   "interpreter": {
    "hash": "cc4d4e82c238842d263a5f30eba934b1efeedbf985bdfbcabdba8132f2882fea"
   }
  }
 },
 "nbformat": 4,
 "nbformat_minor": 5
}
